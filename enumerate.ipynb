{
 "cells": [
  {
   "cell_type": "code",
   "execution_count": 3,
   "metadata": {},
   "outputs": [
    {
     "data": {
      "text/plain": [
       "[(0, 'Krillin'), (1, 'Goku'), (2, 'Vegeta'), (3, 'Gohan'), (4, 'Piccolo')]"
      ]
     },
     "execution_count": 3,
     "metadata": {},
     "output_type": "execute_result"
    }
   ],
   "source": [
    "characters = [\"Krillin\",\"Goku\", \"Vegeta\", \"Gohan\", \"Piccolo\"]\n",
    "\n",
    "# enumerate() returns a sequence of (index, item) tuples\n",
    "\n",
    "list(enumerate(characters))"
   ]
  },
  {
   "cell_type": "code",
   "execution_count": 4,
   "metadata": {},
   "outputs": [
    {
     "name": "stdout",
     "output_type": "stream",
     "text": [
      "0 Krillin\n",
      "1 Goku\n",
      "2 Vegeta\n",
      "3 Gohan\n",
      "4 Piccolo\n"
     ]
    }
   ],
   "source": [
    "# Use enumerate() in a for loop to get an item and its index\n",
    "\n",
    "for index, character in enumerate(characters):\n",
    "    print(index, character)"
   ]
  },
  {
   "cell_type": "code",
   "execution_count": 7,
   "metadata": {},
   "outputs": [
    {
     "name": "stdout",
     "output_type": "stream",
     "text": [
      "{'Goku': [], 'Piccolo': [], 'Gohan': [], 'Krillin': [], 'Vegeta': []}\n"
     ]
    }
   ],
   "source": [
    "# Why might you want to use enumerate?\n",
    "# Example: store index positions of duplicate items\n",
    "\n",
    "characters = [\"Krillin\",\"Goku\", \"Goku\", \"Gohan\", \"Piccolo\",\n",
    "              \"Krillin\",\"Goku\", \"Vegeta\", \"Gohan\", \"Piccolo\",\n",
    "              \"Piccolo\",\"Goku\", \"Vegeta\", \"Goku\", \"Piccolo\"]\n",
    "        \n",
    "character_map = {character:[] for character in set(characters)}\n",
    "\n",
    "print(character_map)"
   ]
  },
  {
   "cell_type": "code",
   "execution_count": 6,
   "metadata": {},
   "outputs": [
    {
     "data": {
      "text/plain": [
       "{'Goku': [1, 2, 6, 11, 13, 1, 2, 6, 11, 13],\n",
       " 'Piccolo': [4, 9, 10, 14, 4, 9, 10, 14],\n",
       " 'Gohan': [3, 8, 3, 8],\n",
       " 'Krillin': [0, 5, 0, 5],\n",
       " 'Vegeta': [7, 12, 7, 12]}"
      ]
     },
     "execution_count": 6,
     "metadata": {},
     "output_type": "execute_result"
    }
   ],
   "source": [
    "# Use enumerate to store the index for each occurence\n",
    "for index, character in enumerate(characters):\n",
    "    character_map[character].append(index)\n",
    "    \n",
    "character_map"
   ]
  }
 ],
 "metadata": {
  "kernelspec": {
   "display_name": "Python 3.10.5 64-bit",
   "language": "python",
   "name": "python3"
  },
  "language_info": {
   "codemirror_mode": {
    "name": "ipython",
    "version": 3
   },
   "file_extension": ".py",
   "mimetype": "text/x-python",
   "name": "python",
   "nbconvert_exporter": "python",
   "pygments_lexer": "ipython3",
   "version": "3.10.5"
  },
  "orig_nbformat": 4,
  "vscode": {
   "interpreter": {
    "hash": "e8899eb02dfbc033aab5733bdae1bd213fa031d40331094008e8673d99ebab63"
   }
  }
 },
 "nbformat": 4,
 "nbformat_minor": 2
}
