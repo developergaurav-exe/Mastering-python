{
 "cells": [
  {
   "cell_type": "code",
   "execution_count": 1,
   "metadata": {},
   "outputs": [
    {
     "ename": "TypeError",
     "evalue": "unsupported operand type(s) for +: 'int' and 'list'",
     "output_type": "error",
     "traceback": [
      "\u001b[1;31m---------------------------------------------------------------------------\u001b[0m",
      "\u001b[1;31mTypeError\u001b[0m                                 Traceback (most recent call last)",
      "\u001b[1;32mc:\\Users\\harsh\\Dropbox\\My PC (DESKTOP-5JVQ0UA)\\Desktop\\PythonPrograms\\Python Practice problems\\debugger.ipynb Cell 1'\u001b[0m in \u001b[0;36m<cell line: 7>\u001b[1;34m()\u001b[0m\n\u001b[0;32m      <a href='vscode-notebook-cell:/c%3A/Users/harsh/Dropbox/My%20PC%20%28DESKTOP-5JVQ0UA%29/Desktop/PythonPrograms/Python%20Practice%20problems/debugger.ipynb#ch0000000?line=2'>3</a>\u001b[0m r \u001b[39m=\u001b[39m [\u001b[39m3\u001b[39m,\u001b[39m4\u001b[39m,\u001b[39m5\u001b[39m]\n\u001b[0;32m      <a href='vscode-notebook-cell:/c%3A/Users/harsh/Dropbox/My%20PC%20%28DESKTOP-5JVQ0UA%29/Desktop/PythonPrograms/Python%20Practice%20problems/debugger.ipynb#ch0000000?line=4'>5</a>\u001b[0m sum1 \u001b[39m=\u001b[39m p \u001b[39m+\u001b[39m q\n\u001b[1;32m----> <a href='vscode-notebook-cell:/c%3A/Users/harsh/Dropbox/My%20PC%20%28DESKTOP-5JVQ0UA%29/Desktop/PythonPrograms/Python%20Practice%20problems/debugger.ipynb#ch0000000?line=6'>7</a>\u001b[0m sum2 \u001b[39m=\u001b[39m q \u001b[39m+\u001b[39;49m r\n",
      "\u001b[1;31mTypeError\u001b[0m: unsupported operand type(s) for +: 'int' and 'list'"
     ]
    }
   ],
   "source": [
    "p = 1\n",
    "q = 2\n",
    "r = [3,4,5]\n",
    "\n",
    "sum1 = p + q\n",
    "\n",
    "sum2 = q + r\n",
    "\n"
   ]
  },
  {
   "cell_type": "code",
   "execution_count": 6,
   "metadata": {},
   "outputs": [
    {
     "name": "stdout",
     "output_type": "stream",
     "text": [
      "--Return--\n",
      "None\n",
      "> \u001b[1;32mc:\\users\\harsh\\appdata\\local\\temp\\ipykernel_32828\\3394768994.py\u001b[0m(9)\u001b[0;36m<cell line: 9>\u001b[1;34m()\u001b[0m\n",
      "\n",
      "1\n",
      "2\n",
      "[3, 4, 5]\n",
      "3\n",
      "*** NameError: name 'sum2' is not defined\n"
     ]
    },
    {
     "ename": "BdbQuit",
     "evalue": "",
     "output_type": "error",
     "traceback": [
      "\u001b[1;31m---------------------------------------------------------------------------\u001b[0m",
      "\u001b[1;31mBdbQuit\u001b[0m                                   Traceback (most recent call last)",
      "\u001b[1;32mc:\\Users\\harsh\\Dropbox\\My PC (DESKTOP-5JVQ0UA)\\Desktop\\PythonPrograms\\Python Practice problems\\debugger.ipynb Cell 2'\u001b[0m in \u001b[0;36m<cell line: 9>\u001b[1;34m()\u001b[0m\n\u001b[0;32m      <a href='vscode-notebook-cell:/c%3A/Users/harsh/Dropbox/My%20PC%20%28DESKTOP-5JVQ0UA%29/Desktop/PythonPrograms/Python%20Practice%20problems/debugger.ipynb#ch0000001?line=4'>5</a>\u001b[0m y \u001b[39m=\u001b[39m [\u001b[39m3\u001b[39m,\u001b[39m4\u001b[39m,\u001b[39m5\u001b[39m]\n\u001b[0;32m      <a href='vscode-notebook-cell:/c%3A/Users/harsh/Dropbox/My%20PC%20%28DESKTOP-5JVQ0UA%29/Desktop/PythonPrograms/Python%20Practice%20problems/debugger.ipynb#ch0000001?line=6'>7</a>\u001b[0m sum1 \u001b[39m=\u001b[39m z \u001b[39m+\u001b[39m x\n\u001b[1;32m----> <a href='vscode-notebook-cell:/c%3A/Users/harsh/Dropbox/My%20PC%20%28DESKTOP-5JVQ0UA%29/Desktop/PythonPrograms/Python%20Practice%20problems/debugger.ipynb#ch0000001?line=8'>9</a>\u001b[0m pdb\u001b[39m.\u001b[39mset_trace()\n\u001b[0;32m     <a href='vscode-notebook-cell:/c%3A/Users/harsh/Dropbox/My%20PC%20%28DESKTOP-5JVQ0UA%29/Desktop/PythonPrograms/Python%20Practice%20problems/debugger.ipynb#ch0000001?line=9'>10</a>\u001b[0m sum2 \u001b[39m=\u001b[39m x \u001b[39m+\u001b[39m y\n",
      "File \u001b[1;32mc:\\Users\\harsh\\AppData\\Local\\Programs\\Python\\Python310\\lib\\bdb.py:94\u001b[0m, in \u001b[0;36mBdb.trace_dispatch\u001b[1;34m(self, frame, event, arg)\u001b[0m\n\u001b[0;32m     92\u001b[0m     \u001b[39mreturn\u001b[39;00m \u001b[39mself\u001b[39m\u001b[39m.\u001b[39mdispatch_call(frame, arg)\n\u001b[0;32m     93\u001b[0m \u001b[39mif\u001b[39;00m event \u001b[39m==\u001b[39m \u001b[39m'\u001b[39m\u001b[39mreturn\u001b[39m\u001b[39m'\u001b[39m:\n\u001b[1;32m---> 94\u001b[0m     \u001b[39mreturn\u001b[39;00m \u001b[39mself\u001b[39;49m\u001b[39m.\u001b[39;49mdispatch_return(frame, arg)\n\u001b[0;32m     95\u001b[0m \u001b[39mif\u001b[39;00m event \u001b[39m==\u001b[39m \u001b[39m'\u001b[39m\u001b[39mexception\u001b[39m\u001b[39m'\u001b[39m:\n\u001b[0;32m     96\u001b[0m     \u001b[39mreturn\u001b[39;00m \u001b[39mself\u001b[39m\u001b[39m.\u001b[39mdispatch_exception(frame, arg)\n",
      "File \u001b[1;32mc:\\Users\\harsh\\AppData\\Local\\Programs\\Python\\Python310\\lib\\bdb.py:156\u001b[0m, in \u001b[0;36mBdb.dispatch_return\u001b[1;34m(self, frame, arg)\u001b[0m\n\u001b[0;32m    154\u001b[0m \u001b[39mfinally\u001b[39;00m:\n\u001b[0;32m    155\u001b[0m     \u001b[39mself\u001b[39m\u001b[39m.\u001b[39mframe_returning \u001b[39m=\u001b[39m \u001b[39mNone\u001b[39;00m\n\u001b[1;32m--> 156\u001b[0m \u001b[39mif\u001b[39;00m \u001b[39mself\u001b[39m\u001b[39m.\u001b[39mquitting: \u001b[39mraise\u001b[39;00m BdbQuit\n\u001b[0;32m    157\u001b[0m \u001b[39m# The user issued a 'next' or 'until' command.\u001b[39;00m\n\u001b[0;32m    158\u001b[0m \u001b[39mif\u001b[39;00m \u001b[39mself\u001b[39m\u001b[39m.\u001b[39mstopframe \u001b[39mis\u001b[39;00m frame \u001b[39mand\u001b[39;00m \u001b[39mself\u001b[39m\u001b[39m.\u001b[39mstoplineno \u001b[39m!=\u001b[39m \u001b[39m-\u001b[39m\u001b[39m1\u001b[39m:\n",
      "\u001b[1;31mBdbQuit\u001b[0m: "
     ]
    }
   ],
   "source": [
    "import pdb\n",
    "\n",
    "z = 1\n",
    "x = 2\n",
    "y = [3,4,5]\n",
    "\n",
    "sum1 = z + x\n",
    "\n",
    "pdb.set_trace()\n",
    "sum2 = x + y\n",
    "\n"
   ]
  },
  {
   "cell_type": "code",
   "execution_count": null,
   "metadata": {},
   "outputs": [],
   "source": [
    "#debugger module used mainly to stop script in the \n",
    "# middle of execution so to examine variables in that \n",
    "# moment of time... Mainly used to set trace!"
   ]
  }
 ],
 "metadata": {
  "kernelspec": {
   "display_name": "Python 3.10.5 64-bit",
   "language": "python",
   "name": "python3"
  },
  "language_info": {
   "codemirror_mode": {
    "name": "ipython",
    "version": 3
   },
   "file_extension": ".py",
   "mimetype": "text/x-python",
   "name": "python",
   "nbconvert_exporter": "python",
   "pygments_lexer": "ipython3",
   "version": "3.10.5"
  },
  "orig_nbformat": 4,
  "vscode": {
   "interpreter": {
    "hash": "e8899eb02dfbc033aab5733bdae1bd213fa031d40331094008e8673d99ebab63"
   }
  }
 },
 "nbformat": 4,
 "nbformat_minor": 2
}
