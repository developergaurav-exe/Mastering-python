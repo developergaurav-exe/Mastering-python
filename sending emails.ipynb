{
 "cells": [
  {
   "cell_type": "code",
   "execution_count": 12,
   "metadata": {},
   "outputs": [],
   "source": [
    "import smtplib\n",
    "obj = smtplib.SMTP('smtp.gmail.com', 587) # TLS encryption\n",
    "# pass port number 456 or don't pass any if above port doesn't works"
   ]
  },
  {
   "cell_type": "code",
   "execution_count": 13,
   "metadata": {},
   "outputs": [
    {
     "data": {
      "text/plain": [
       "(250,\n",
       " b'smtp.gmail.com at your service, [27.4.169.168]\\nSIZE 35882577\\n8BITMIME\\nSTARTTLS\\nENHANCEDSTATUSCODES\\nPIPELINING\\nCHUNKING\\nSMTPUTF8')"
      ]
     },
     "execution_count": 13,
     "metadata": {},
     "output_type": "execute_result"
    }
   ],
   "source": [
    "# connecting with server should be done first\n",
    "obj.ehlo()"
   ]
  },
  {
   "cell_type": "code",
   "execution_count": 14,
   "metadata": {},
   "outputs": [
    {
     "data": {
      "text/plain": [
       "(220, b'2.0.0 Ready to start TLS')"
      ]
     },
     "execution_count": 14,
     "metadata": {},
     "output_type": "execute_result"
    }
   ],
   "source": [
    "obj.starttls()"
   ]
  },
  {
   "cell_type": "code",
   "execution_count": 15,
   "metadata": {},
   "outputs": [],
   "source": [
    "import emailkeys\n",
    "email = emailkeys.myemail\n",
    "appkey = emailkeys.appkey"
   ]
  },
  {
   "cell_type": "code",
   "execution_count": 16,
   "metadata": {},
   "outputs": [
    {
     "ename": "SMTPAuthenticationError",
     "evalue": "(535, b'5.7.8 Username and Password not accepted. Learn more at\\n5.7.8  https://support.google.com/mail/?p=BadCredentials 136-20020a62168e000000b0053dd1bba6a0sm3448635pfw.145 - gsmtp')",
     "output_type": "error",
     "traceback": [
      "\u001b[1;31m---------------------------------------------------------------------------\u001b[0m",
      "\u001b[1;31mSMTPAuthenticationError\u001b[0m                   Traceback (most recent call last)",
      "\u001b[1;32mc:\\Users\\harsh\\Dropbox\\My PC (DESKTOP-5JVQ0UA)\\Desktop\\Python Development\\Mastering Python\\sending emails.ipynb Cell 5\u001b[0m in \u001b[0;36m<cell line: 1>\u001b[1;34m()\u001b[0m\n\u001b[1;32m----> <a href='vscode-notebook-cell:/c%3A/Users/harsh/Dropbox/My%20PC%20%28DESKTOP-5JVQ0UA%29/Desktop/Python%20Development/Mastering%20Python/sending%20emails.ipynb#W4sZmlsZQ%3D%3D?line=0'>1</a>\u001b[0m obj\u001b[39m.\u001b[39;49mlogin(email, appkey)\n",
      "File \u001b[1;32mc:\\Users\\harsh\\AppData\\Local\\Programs\\Python\\Python310\\lib\\smtplib.py:750\u001b[0m, in \u001b[0;36mSMTP.login\u001b[1;34m(self, user, password, initial_response_ok)\u001b[0m\n\u001b[0;32m    747\u001b[0m         last_exception \u001b[39m=\u001b[39m e\n\u001b[0;32m    749\u001b[0m \u001b[39m# We could not login successfully.  Return result of last attempt.\u001b[39;00m\n\u001b[1;32m--> 750\u001b[0m \u001b[39mraise\u001b[39;00m last_exception\n",
      "File \u001b[1;32mc:\\Users\\harsh\\AppData\\Local\\Programs\\Python\\Python310\\lib\\smtplib.py:739\u001b[0m, in \u001b[0;36mSMTP.login\u001b[1;34m(self, user, password, initial_response_ok)\u001b[0m\n\u001b[0;32m    737\u001b[0m method_name \u001b[39m=\u001b[39m \u001b[39m'\u001b[39m\u001b[39mauth_\u001b[39m\u001b[39m'\u001b[39m \u001b[39m+\u001b[39m authmethod\u001b[39m.\u001b[39mlower()\u001b[39m.\u001b[39mreplace(\u001b[39m'\u001b[39m\u001b[39m-\u001b[39m\u001b[39m'\u001b[39m, \u001b[39m'\u001b[39m\u001b[39m_\u001b[39m\u001b[39m'\u001b[39m)\n\u001b[0;32m    738\u001b[0m \u001b[39mtry\u001b[39;00m:\n\u001b[1;32m--> 739\u001b[0m     (code, resp) \u001b[39m=\u001b[39m \u001b[39mself\u001b[39;49m\u001b[39m.\u001b[39;49mauth(\n\u001b[0;32m    740\u001b[0m         authmethod, \u001b[39mgetattr\u001b[39;49m(\u001b[39mself\u001b[39;49m, method_name),\n\u001b[0;32m    741\u001b[0m         initial_response_ok\u001b[39m=\u001b[39;49minitial_response_ok)\n\u001b[0;32m    742\u001b[0m     \u001b[39m# 235 == 'Authentication successful'\u001b[39;00m\n\u001b[0;32m    743\u001b[0m     \u001b[39m# 503 == 'Error: already authenticated'\u001b[39;00m\n\u001b[0;32m    744\u001b[0m     \u001b[39mif\u001b[39;00m code \u001b[39min\u001b[39;00m (\u001b[39m235\u001b[39m, \u001b[39m503\u001b[39m):\n",
      "File \u001b[1;32mc:\\Users\\harsh\\AppData\\Local\\Programs\\Python\\Python310\\lib\\smtplib.py:662\u001b[0m, in \u001b[0;36mSMTP.auth\u001b[1;34m(self, mechanism, authobject, initial_response_ok)\u001b[0m\n\u001b[0;32m    660\u001b[0m \u001b[39mif\u001b[39;00m code \u001b[39min\u001b[39;00m (\u001b[39m235\u001b[39m, \u001b[39m503\u001b[39m):\n\u001b[0;32m    661\u001b[0m     \u001b[39mreturn\u001b[39;00m (code, resp)\n\u001b[1;32m--> 662\u001b[0m \u001b[39mraise\u001b[39;00m SMTPAuthenticationError(code, resp)\n",
      "\u001b[1;31mSMTPAuthenticationError\u001b[0m: (535, b'5.7.8 Username and Password not accepted. Learn more at\\n5.7.8  https://support.google.com/mail/?p=BadCredentials 136-20020a62168e000000b0053dd1bba6a0sm3448635pfw.145 - gsmtp')"
     ]
    }
   ],
   "source": [
    "obj.login(email, appkey)"
   ]
  },
  {
   "cell_type": "code",
   "execution_count": null,
   "metadata": {},
   "outputs": [],
   "source": [
    "from_address = email\n",
    "to_address = emailkeys.myemail #emailkeys.imran, emailkeys.kaintura, emailkeys.arunima, emailkeys.manan, emailkeys.manav\n",
    "subject = input('Enter the Subject Line: ')\n",
    "message = input('Enter the Body message: ')\n",
    "msg = 'Subject: '+subject+'\\n'+message\n",
    "\n",
    "obj.sendmail(from_address, to_address, msg)"
   ]
  },
  {
   "cell_type": "code",
   "execution_count": null,
   "metadata": {},
   "outputs": [],
   "source": [
    "obj.quit()"
   ]
  }
 ],
 "metadata": {
  "kernelspec": {
   "display_name": "Python 3.10.5 64-bit",
   "language": "python",
   "name": "python3"
  },
  "language_info": {
   "codemirror_mode": {
    "name": "ipython",
    "version": 3
   },
   "file_extension": ".py",
   "mimetype": "text/x-python",
   "name": "python",
   "nbconvert_exporter": "python",
   "pygments_lexer": "ipython3",
   "version": "3.10.5"
  },
  "orig_nbformat": 4,
  "vscode": {
   "interpreter": {
    "hash": "e8899eb02dfbc033aab5733bdae1bd213fa031d40331094008e8673d99ebab63"
   }
  }
 },
 "nbformat": 4,
 "nbformat_minor": 2
}
