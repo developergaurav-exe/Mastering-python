{
 "cells": [
  {
   "cell_type": "code",
   "execution_count": 19,
   "metadata": {},
   "outputs": [],
   "source": [
    "def char_sum(input1,input2):\n",
    "    l = []\n",
    "    total = 0\n",
    "    if input2 == 0:\n",
    "        for i in input1:\n",
    "            if i.isdigit():\n",
    "                l.append(i)\n",
    "        for i in l:\n",
    "            total += int(i)\n",
    "        return total\n",
    "    if input2 == 1:\n",
    "        for i in input1:\n",
    "            if i.isalpha():\n",
    "                l.append(i)\n",
    "        if len(l) == 0:\n",
    "            return 0\n",
    "        return l"
   ]
  },
  {
   "cell_type": "code",
   "execution_count": 20,
   "metadata": {},
   "outputs": [
    {
     "data": {
      "text/plain": [
       "0"
      ]
     },
     "execution_count": 20,
     "metadata": {},
     "output_type": "execute_result"
    }
   ],
   "source": [
    "char_sum('2345',1)"
   ]
  }
 ],
 "metadata": {
  "interpreter": {
   "hash": "e8899eb02dfbc033aab5733bdae1bd213fa031d40331094008e8673d99ebab63"
  },
  "kernelspec": {
   "display_name": "Python 3.10.4 64-bit",
   "language": "python",
   "name": "python3"
  },
  "language_info": {
   "codemirror_mode": {
    "name": "ipython",
    "version": 3
   },
   "file_extension": ".py",
   "mimetype": "text/x-python",
   "name": "python",
   "nbconvert_exporter": "python",
   "pygments_lexer": "ipython3",
   "version": "3.10.4"
  },
  "orig_nbformat": 4
 },
 "nbformat": 4,
 "nbformat_minor": 2
}
